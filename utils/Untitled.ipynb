{
 "cells": [
  {
   "cell_type": "code",
   "execution_count": 1,
   "id": "7971599e-f2cd-4fe6-a9b7-e04f3c3246f6",
   "metadata": {},
   "outputs": [],
   "source": [
    "import torch"
   ]
  },
  {
   "cell_type": "code",
   "execution_count": 18,
   "id": "07e16c05-c38f-476c-a467-bea0cd9342e3",
   "metadata": {},
   "outputs": [],
   "source": [
    "def split_matrix(matrix):\n",
    "    n = matrix.size(0)\n",
    "    first_positive_index_matrix = torch.zeros_like(matrix)\n",
    "    remaining_positive_indexes_matrix = matrix.clone()\n",
    "    \n",
    "    for i in range(n):\n",
    "        row = matrix[i]\n",
    "        pos_indices = torch.nonzero(row > 0).squeeze()\n",
    "        if pos_indices.numel() > 1:\n",
    "            first_pos_index = pos_indices[0].item()\n",
    "            first_positive_index_matrix[i, first_pos_index] = matrix[i, first_pos_index]\n",
    "            remaining_positive_indexes_matrix[i, first_pos_index] = 0\n",
    "        else:\n",
    "            remaining_positive_indexes_matrix[i] = 0\n",
    "\n",
    "    return first_positive_index_matrix, remaining_positive_indexes_matrix\n"
   ]
  },
  {
   "cell_type": "code",
   "execution_count": 16,
   "id": "a25cc7c0-eeaa-4cf4-b123-f0736211b69d",
   "metadata": {},
   "outputs": [
    {
     "data": {
      "text/plain": [
       "tensor([[1, 1, 0, 0],\n",
       "        [0, 1, 0, 0],\n",
       "        [1, 0, 0, 1],\n",
       "        [0, 1, 0, 1]])"
      ]
     },
     "execution_count": 16,
     "metadata": {},
     "output_type": "execute_result"
    }
   ],
   "source": [
    "mat = torch.randint(0,2,(4,4))\n",
    "mat"
   ]
  },
  {
   "cell_type": "code",
   "execution_count": null,
   "id": "bcf0f103-3969-4006-a194-92c1f632432c",
   "metadata": {},
   "outputs": [],
   "source": []
  },
  {
   "cell_type": "code",
   "execution_count": 19,
   "id": "f7c9f358-42fe-4cf6-9929-e469d58081ac",
   "metadata": {},
   "outputs": [
    {
     "data": {
      "text/plain": [
       "(tensor([[1, 0, 0, 0],\n",
       "         [0, 0, 0, 0],\n",
       "         [1, 0, 0, 0],\n",
       "         [0, 1, 0, 0]]),\n",
       " tensor([[0, 1, 0, 0],\n",
       "         [0, 0, 0, 0],\n",
       "         [0, 0, 0, 1],\n",
       "         [0, 0, 0, 1]]))"
      ]
     },
     "execution_count": 19,
     "metadata": {},
     "output_type": "execute_result"
    }
   ],
   "source": [
    "split_matrix(mat)"
   ]
  },
  {
   "cell_type": "code",
   "execution_count": 1,
   "id": "7d4e27f5-d960-4207-8ef2-2cdb7fcf8e77",
   "metadata": {},
   "outputs": [],
   "source": [
    "import numpy as np"
   ]
  },
  {
   "cell_type": "code",
   "execution_count": 2,
   "id": "9413a3ab-e202-40b0-b5a9-ef2418a05c06",
   "metadata": {},
   "outputs": [
    {
     "data": {
      "text/plain": [
       "array([2, 3, 4, 5])"
      ]
     },
     "execution_count": 2,
     "metadata": {},
     "output_type": "execute_result"
    }
   ],
   "source": [
    "i = np.arange(2,6)\n",
    "i\n",
    "    "
   ]
  },
  {
   "cell_type": "code",
   "execution_count": 5,
   "id": "b7c462cf-85c3-4482-a11e-b3f8304cd99f",
   "metadata": {},
   "outputs": [],
   "source": [
    "epoch = 6"
   ]
  },
  {
   "cell_type": "code",
   "execution_count": 6,
   "id": "a8c6cbc7-32ba-4ee5-93e3-17ef256a9186",
   "metadata": {},
   "outputs": [],
   "source": [
    "if epoch in i:\n",
    "    print(f'{epoch}')"
   ]
  },
  {
   "cell_type": "code",
   "execution_count": null,
   "id": "9b1a2b45-abba-4c91-8617-02fd57913b29",
   "metadata": {},
   "outputs": [],
   "source": []
  }
 ],
 "metadata": {
  "kernelspec": {
   "display_name": "icadr",
   "language": "python",
   "name": "icadr"
  },
  "language_info": {
   "codemirror_mode": {
    "name": "ipython",
    "version": 3
   },
   "file_extension": ".py",
   "mimetype": "text/x-python",
   "name": "python",
   "nbconvert_exporter": "python",
   "pygments_lexer": "ipython3",
   "version": "3.8.10"
  }
 },
 "nbformat": 4,
 "nbformat_minor": 5
}
